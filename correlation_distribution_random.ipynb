{
 "cells": [
  {
   "cell_type": "code",
   "execution_count": null,
   "metadata": {},
   "outputs": [],
   "source": [
    "import numpy as np\n",
    "import pandas as pd\n",
    "import matplotlib.pyplot as plt\n",
    "import os"
   ]
  },
  {
   "cell_type": "code",
   "execution_count": null,
   "metadata": {},
   "outputs": [],
   "source": [
    "main_path = r'Z:\\zym\\IS\\correlation\\total'\n",
    "folder_list = os.listdir(main_path)\n",
    "total_ed = []\n",
    "total_cc = []\n",
    "for f in folder_list:\n",
    "    ff_path = os.path.join(main_path, f)\n",
    "    ff = os.listdir(ff_path)\n",
    "    e_list = []\n",
    "    for e in ff:\n",
    "        if e[-4:]=='xlsx' and e[0]=='S':\n",
    "            e_list.append(e)\n",
    "    per_mouse_ed = []\n",
    "    per_mouse_cc = []\n",
    "    for e in e_list:\n",
    "        e_df = pd.read_excel(os.path.join(ff_path, e), engine='openpyxl')\n",
    "        e_df = e_df.drop(labels='Unnamed: 0',axis=1)\n",
    "        per_mouse_ed.append(e_df.values[0])\n",
    "        per_mouse_cc.append(e_df.values[1])\n",
    "    per_mouse_ed = np.array(per_mouse_ed).ravel().tolist()\n",
    "    per_mouse_cc = np.array(per_mouse_cc).ravel().tolist()\n",
    "    total_ed.extend(per_mouse_ed)\n",
    "    total_cc.extend(per_mouse_cc)"
   ]
  },
  {
   "cell_type": "code",
   "execution_count": null,
   "metadata": {},
   "outputs": [],
   "source": [
    "main_path = r'Z:\\zym\\IS\\correlation\\random_total'\n",
    "folder_list = os.listdir(main_path)\n",
    "total_random_ed = []\n",
    "total_random_cc = []\n",
    "for f in folder_list:\n",
    "    ff_path = os.path.join(main_path, f)\n",
    "    ff = os.listdir(ff_path)\n",
    "    e_list = []\n",
    "    for e in ff:\n",
    "        if e[-4:]=='xlsx' and e[0]=='S':\n",
    "            e_list.append(e)\n",
    "    per_mouse_ed = []\n",
    "    per_mouse_cc = []\n",
    "    for e in e_list:\n",
    "        e_df = pd.read_excel(os.path.join(ff_path, e), engine='openpyxl')\n",
    "        e_df = e_df.drop(labels='Unnamed: 0',axis=1)\n",
    "        per_mouse_ed.append(e_df.values[0])\n",
    "        per_mouse_cc.append(e_df.values[1])\n",
    "    per_mouse_ed = np.array(per_mouse_ed).ravel().tolist()\n",
    "    per_mouse_cc = np.array(per_mouse_cc).ravel().tolist()\n",
    "    total_random_ed.extend(per_mouse_ed)\n",
    "    total_random_cc.extend(per_mouse_cc)"
   ]
  },
  {
   "cell_type": "code",
   "execution_count": null,
   "metadata": {},
   "outputs": [],
   "source": [
    "random_ed_df = pd.DataFrame(np.array(total_random_ed).T)\n",
    "random_cc_df = pd.DataFrame(np.array(total_random_cc).T)\n",
    "random_ed_df.to_excel(os.path.join(r'Z:\\zym\\IS\\correlation', 'ed_random.xlsx'))\n",
    "random_cc_df.to_excel(os.path.join(r'Z:\\zym\\IS\\correlation', 'cc_random.xlsx'))"
   ]
  },
  {
   "cell_type": "code",
   "execution_count": null,
   "metadata": {},
   "outputs": [],
   "source": [
    "ed_df = pd.DataFrame(np.array(total_ed).T)\n",
    "cc_df = pd.DataFrame(np.array(total_cc).T)\n",
    "ed_df.to_excel(os.path.join(r'Z:\\zym\\IS\\correlation', 'ed.xlsx'))\n",
    "cc_df.to_excel(os.path.join(r'Z:\\zym\\IS\\correlation', 'cc.xlsx'))"
   ]
  },
  {
   "cell_type": "code",
   "execution_count": null,
   "metadata": {},
   "outputs": [],
   "source": [
    "a,b = np.histogram(total_cc,bins=np.arange(0,1.01,0.01))\n",
    "a_r, b_r = np.histogram(total_random_cc,bins=np.arange(0,1.01,0.01))\n",
    "x = np.arange(0.005,1,0.01)"
   ]
  },
  {
   "cell_type": "code",
   "execution_count": null,
   "metadata": {},
   "outputs": [],
   "source": [
    "a_ed,b_ed = np.histogram(total_ed,bins=np.arange(0,2001,20))\n",
    "a_ed_r,b_ed_r = np.histogram(total_random_ed,bins=np.arange(0,2001,20))\n",
    "x_ed = np.arange(10,2000,20)"
   ]
  },
  {
   "cell_type": "code",
   "execution_count": null,
   "metadata": {},
   "outputs": [],
   "source": [
    "fig, ax = plt.subplots(figsize=(4,3))\n",
    "ax.spines['top'].set_visible(False)\n",
    "ax.spines['right'].set_visible(False)\n",
    "ax.spines['bottom'].set_linewidth('1.2')\n",
    "ax.spines['left'].set_linewidth('1.2')\n",
    "plt.bar(x,a_r,width=0.01,color='gray')\n",
    "#plt.bar(x,a,width=0.01,color='olivedrab')\n",
    "plt.xlabel('waveform correlation',fontsize=14)\n",
    "plt.ylabel('unit pairs',fontsize=14)\n",
    "plt.ylim(0,62)\n",
    "#ax.invert_xaxis()\n",
    "plt.tight_layout()\n",
    "plt.savefig(os.path.join(r'Z:\\zym\\IS\\correlation', 'random_waveform_correlation.jpg'),dpi=300)\n",
    "plt.savefig(os.path.join(r'Z:\\zym\\IS\\correlation', 'random_waveform_correlation.eps'),dpi=300)"
   ]
  },
  {
   "cell_type": "code",
   "execution_count": null,
   "metadata": {},
   "outputs": [],
   "source": [
    "fig, ax = plt.subplots(figsize=(4,3))\n",
    "ax.spines['top'].set_visible(False)\n",
    "ax.spines['right'].set_visible(False)\n",
    "ax.spines['bottom'].set_linewidth('1.2')\n",
    "ax.spines['left'].set_linewidth('1.2')\n",
    "#plt.bar(x,a_r,width=0.01,color='gray')\n",
    "plt.bar(x,a,width=0.01,color='olivedrab')\n",
    "plt.xlabel('waveform correlation',fontsize=14)\n",
    "plt.ylabel('unit pairs',fontsize=14)\n",
    "plt.ylim(0,62)\n",
    "#ax.invert_xaxis()\n",
    "plt.tight_layout()\n",
    "plt.savefig(os.path.join(r'Z:\\zym\\IS\\correlation', 'waveform_correlation.jpg'),dpi=300)\n",
    "plt.savefig(os.path.join(r'Z:\\zym\\IS\\correlation', 'waveform_correlation.eps'),dpi=300)"
   ]
  },
  {
   "cell_type": "code",
   "execution_count": null,
   "metadata": {},
   "outputs": [],
   "source": [
    "fig, ax = plt.subplots(figsize=(4,3))\n",
    "ax.spines['top'].set_visible(False)\n",
    "ax.spines['right'].set_visible(False)\n",
    "ax.spines['bottom'].set_linewidth('1.2')\n",
    "ax.spines['left'].set_linewidth('1.2')\n",
    "plt.bar(x_ed,a_ed_r,width=20,color='gray')\n",
    "#plt.bar(x_ed,a_ed,width=20,color='goldenrod')\n",
    "plt.xlabel('waveform distance',fontsize=14)\n",
    "plt.ylabel('unit pairs',fontsize=14)\n",
    "plt.ylim(0,25)\n",
    "plt.tight_layout()\n",
    "plt.savefig(os.path.join(r'Z:\\zym\\IS\\correlation', 'random_waveform_distance.jpg'),dpi=300)\n",
    "plt.savefig(os.path.join(r'Z:\\zym\\IS\\correlation', 'random_waveform_distance.eps'),dpi=300)"
   ]
  },
  {
   "cell_type": "code",
   "execution_count": null,
   "metadata": {},
   "outputs": [],
   "source": [
    "fig, ax = plt.subplots(figsize=(4,3))\n",
    "ax.spines['top'].set_visible(False)\n",
    "ax.spines['right'].set_visible(False)\n",
    "ax.spines['bottom'].set_linewidth('1.2')\n",
    "ax.spines['left'].set_linewidth('1.2')\n",
    "#plt.bar(x_ed,a_ed_r,width=20,color='gray')\n",
    "plt.bar(x_ed,a_ed,width=20,color='goldenrod')\n",
    "plt.xlabel('waveform distance',fontsize=14)\n",
    "plt.ylabel('unit pairs',fontsize=14)\n",
    "plt.ylim(0,25)\n",
    "plt.tight_layout()\n",
    "plt.savefig(os.path.join(r'Z:\\zym\\IS\\correlation', 'waveform_distance.jpg'),dpi=300)\n",
    "plt.savefig(os.path.join(r'Z:\\zym\\IS\\correlation', 'waveform_distance.eps'),dpi=300)"
   ]
  }
 ],
 "metadata": {
  "kernelspec": {
   "display_name": "freeze",
   "language": "python",
   "name": "python3"
  },
  "language_info": {
   "codemirror_mode": {
    "name": "ipython",
    "version": 3
   },
   "file_extension": ".py",
   "mimetype": "text/x-python",
   "name": "python",
   "nbconvert_exporter": "python",
   "pygments_lexer": "ipython3",
   "version": "3.6.13"
  },
  "orig_nbformat": 4,
  "vscode": {
   "interpreter": {
    "hash": "ceb62b99354f864679ffa73aa22e991645f0f3bfd638418712d4eea9a91e2ead"
   }
  }
 },
 "nbformat": 4,
 "nbformat_minor": 2
}
