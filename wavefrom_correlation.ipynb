{
 "cells": [
  {
   "cell_type": "code",
   "execution_count": null,
   "metadata": {},
   "outputs": [],
   "source": [
    "import os\n",
    "import numpy as np\n",
    "import pandas as pd\n",
    "import matplotlib.pyplot as plt"
   ]
  },
  {
   "cell_type": "code",
   "execution_count": null,
   "metadata": {},
   "outputs": [],
   "source": [
    "def ed(m, n):\n",
    " return np.sqrt(np.sum((m - n) ** 2))\n",
    "\n",
    "def cosine_similar(m,n):\n",
    "    return np.sum(m * n) / (np.linalg.norm(m) * np.linalg.norm(n))"
   ]
  },
  {
   "cell_type": "code",
   "execution_count": null,
   "metadata": {},
   "outputs": [],
   "source": [
    "total_path = r'Z:\\zym\\IS\\correlation\\chr2_6'\n",
    "filelist = os.listdir(total_path)\n",
    "channel_index = 3\n",
    "plx=[]\n",
    "for f in filelist:\n",
    "    if f.endswith('.plx'):\n",
    "        plx.append(f[:-4])\n",
    "waveform_3day = []\n",
    "for p in plx:\n",
    "    folder_path = os.path.join(total_path,p)\n",
    "    file_list = os.listdir(folder_path)\n",
    "    total_waveform = []\n",
    "    for f in file_list:\n",
    "        if f.endswith('_total_waveform_data.xlsx'):\n",
    "            total_waveform.append(f)\n",
    "    waveform = pd.read_excel(os.path.join(folder_path, total_waveform[channel_index]),engine='openpyxl',header=None)\n",
    "    waveform_value = waveform.values.T\n",
    "    waveform_3day.append(waveform_value)     \n",
    "unit_name = total_waveform[channel_index][:7]\n",
    "fig,axs=plt.subplots(3,4,figsize=(5,3),sharex=True,sharey=False)\n",
    "for i in range(3):\n",
    "    for j in range(4):\n",
    "        axs[i][j].plot(waveform_3day[i][j])\n",
    "        axs[i][j].spines['top'].set_visible(False)\n",
    "        axs[i][j].spines['right'].set_visible(False)\n",
    "        axs[i][j].spines['bottom'].set_visible(False)\n",
    "        axs[i][j].spines['left'].set_visible(True) \n",
    "        axs[i][j].set_ylim(-500,200)\n",
    "\n",
    "plt.savefig(os.path.join(total_path, unit_name+'.jpg'))\n",
    "plt.show()\n",
    "waveform_total = np.zeros((3,256))\n",
    "for idx, wave in enumerate(waveform_3day):\n",
    "    wave = wave.ravel()\n",
    "    waveform_total[idx] = wave\n",
    "\n",
    "distance1 = ed(waveform_total[0], waveform_total[1])\n",
    "distance2 = ed(waveform_total[0], waveform_total[2])\n",
    "distance3 = ed(waveform_total[1], waveform_total[2])\n",
    "print([distance1,distance2,distance3])\n",
    "\n",
    "sim1 = cosine_similar(waveform_total[0], waveform_total[1])\n",
    "sim2 = cosine_similar(waveform_total[0], waveform_total[2])\n",
    "sim3 = cosine_similar(waveform_total[1], waveform_total[2])\n",
    "print([sim1,sim2,sim3])\n",
    "\n",
    "d_df = pd.DataFrame([[distance1,distance2,distance3],[sim1,sim2,sim3]])\n",
    "d_df.to_excel(os.path.join(total_path, unit_name+'.xlsx'))"
   ]
  }
 ],
 "metadata": {
  "kernelspec": {
   "display_name": "freeze",
   "language": "python",
   "name": "python3"
  },
  "language_info": {
   "codemirror_mode": {
    "name": "ipython",
    "version": 3
   },
   "file_extension": ".py",
   "mimetype": "text/x-python",
   "name": "python",
   "nbconvert_exporter": "python",
   "pygments_lexer": "ipython3",
   "version": "3.6.13"
  },
  "orig_nbformat": 4,
  "vscode": {
   "interpreter": {
    "hash": "ceb62b99354f864679ffa73aa22e991645f0f3bfd638418712d4eea9a91e2ead"
   }
  }
 },
 "nbformat": 4,
 "nbformat_minor": 2
}
