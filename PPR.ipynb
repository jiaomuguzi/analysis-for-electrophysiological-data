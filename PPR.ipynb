{
 "cells": [
  {
   "cell_type": "code",
   "execution_count": null,
   "metadata": {},
   "outputs": [],
   "source": [
    "import numpy as np\n",
    "import pandas as pd\n",
    "import matplotlib.pyplot as plt\n",
    "import os\n",
    "import h5py\n",
    "import glob\n",
    "import tqdm\n",
    "np.set_printoptions(suppress=True)"
   ]
  },
  {
   "cell_type": "code",
   "execution_count": null,
   "metadata": {},
   "outputs": [],
   "source": [
    "total_path = r'Z:\\zym\\IS\\TH_chr2_5'\n",
    "PPR_path = total_path + '\\\\'+'PPR'+'\\\\'+'plx'\n",
    "filelist_p = os.listdir(PPR_path)\n",
    "plx_p=[]\n",
    "for f in filelist_p:\n",
    "    if f.endswith('.plx'):\n",
    "        plx_p.append(f[:-4])"
   ]
  },
  {
   "cell_type": "code",
   "execution_count": null,
   "metadata": {},
   "outputs": [],
   "source": [
    "ptd_all = []\n",
    "wave_data = []\n",
    "unit_name = []\n",
    "for idx,file_name in enumerate(plx_p):\n",
    "    wave = pd.read_excel(os.path.join(PPR_path, file_name+'waveform.xlsx'),engine='openpyxl')\n",
    "    wave = wave[wave.peak_trough_distance != 0]\n",
    "    wave_data.extend(wave.values[:,0:3].tolist())\n",
    "    unit_name.extend((wave.values[:,0]).tolist())\n",
    "unit_name = list(dict.fromkeys(unit_name))\n",
    "unit_name.sort()\n",
    "for u in unit_name:\n",
    "    ptd = []\n",
    "    for w in wave_data:\n",
    "        if w[0] == u:\n",
    "            ptd.append(w[2])\n",
    "    ptd_all.append(np.mean(ptd))\n",
    "ptd_avg = np.array(ptd_all)\n",
    "narrow_idx = np.argwhere((ptd_avg<0.4)|(ptd_avg==0.4)).flatten()\n",
    "narrow_idx = narrow_idx.tolist()\n",
    "broad_idx = np.argwhere(ptd_avg>0.4).flatten()\n",
    "broad_idx = broad_idx.tolist()"
   ]
  },
  {
   "cell_type": "code",
   "execution_count": null,
   "metadata": {},
   "outputs": [],
   "source": [
    "unit_narrow = []\n",
    "for i in narrow_idx:\n",
    "    unit_narrow.append(unit_name[i])\n",
    "unit_broad = []\n",
    "for i in broad_idx:\n",
    "    unit_broad.append(unit_name[i])"
   ]
  },
  {
   "cell_type": "code",
   "execution_count": null,
   "metadata": {},
   "outputs": [],
   "source": [
    "wave_p = pd.read_excel(os.path.join(PPR_path, plx_p[0]+'waveform.xlsx'),engine='openpyxl')"
   ]
  },
  {
   "cell_type": "code",
   "execution_count": null,
   "metadata": {},
   "outputs": [],
   "source": [
    "unit_ppr = []\n",
    "ppr_df = pd.DataFrame(columns=['day1','day2','day3'])\n",
    "for file_name in plx_p:\n",
    "    wave = pd.read_excel(os.path.join(PPR_path, file_name+'waveform.xlsx'),engine='openpyxl')\n",
    "    wave = wave[wave.peak_trough_distance != 0]\n",
    "    wave_data.extend(wave.values[:,0:3].tolist())\n",
    "    unit_ppr.extend((wave.values[:,0]).tolist())\n",
    "unit_ppr = list(dict.fromkeys(unit_ppr))\n",
    "unit_ppr.sort()"
   ]
  },
  {
   "cell_type": "code",
   "execution_count": null,
   "metadata": {},
   "outputs": [],
   "source": [
    "ppr_df = pd.DataFrame(columns=unit_ppr,index=['day1','day2','day3','cell_type'])\n",
    "ppr_pp_df = pd.DataFrame(columns=unit_ppr,index=['day1','day2','day3','cell_type'])\n",
    "#ppr_idv_df = pd.DataFrame(columns=unit_ppr,index=['day1','day2','day3','cell_type'])\n",
    "kbd = np.arange(0,30,3.31)\n",
    "gap = 1155/1000\n",
    "cal_gap = 500/1000\n",
    "for idx,file_name in enumerate(plx_p):\n",
    "    wave = pd.read_excel(os.path.join(PPR_path, file_name+'waveform.xlsx'),engine='openpyxl')\n",
    "    timestamp = h5py.File(os.path.join(PPR_path, file_name+'timestamp.mat'),'r')\n",
    "    kbd_p = timestamp['timestamp/kbd1'][:].flatten()\n",
    "    kbd_p_list = kbd_p + kbd\n",
    "    unit_list = list(wave.unit)\n",
    "    unit_name = []\n",
    "    for i in unit_list:\n",
    "        name = 'timestamp/'+i\n",
    "        unit_name.append(name)\n",
    "        spike_p = timestamp[name][:].flatten()\n",
    "        ppr_10trial = []\n",
    "        ppr_p1_p2 = []\n",
    "        for k_p in kbd_p_list:\n",
    "            start1 = k_p + 5/1000\n",
    "            stop1 = start1 + cal_gap\n",
    "            start2 = start1 + gap\n",
    "            stop2 = start2 + cal_gap\n",
    "            #print([start1,stop1,start2,stop2])\n",
    "            spk_array1 = spike_p[(spike_p>start1) & (spike_p<stop1)]\n",
    "            spk_array2 = spike_p[(spike_p>start2) & (spike_p<stop2)]\n",
    "            if len(spk_array1)/cal_gap != 0:\n",
    "                ppr = (len(spk_array2)/cal_gap)/(len(spk_array1)/cal_gap)\n",
    "            elif (len(spk_array1)==0) & (len(spk_array2)==0):\n",
    "                ppr = 1\n",
    "            else:\n",
    "                ppr = 0\n",
    "            ppr_10trial.append(ppr)\n",
    "            ppr_p1_p2.append([len(spk_array1)/cal_gap,len(spk_array2)/cal_gap])\n",
    "        ppr = np.mean(ppr_10trial)\n",
    "        ppr_pp = np.mean(np.array(ppr_p1_p2),0)\n",
    "        #ppr_10trial = [float('{:.3f}'.format(i)) for i in ppr_10trial]\n",
    "        ind = 'day%s'% (idx+1)\n",
    "        ppr_pp_df.loc[ind, i] = ppr_pp\n",
    "        ppr_df.loc[ind, i] = ppr_pp[1]/ppr_pp[0]\n",
    "        #ppr_idv_df.loc[ind, i] = ppr_10trial\n",
    "        if i in unit_broad:\n",
    "            ppr_df.loc['cell_type',i] = 'broad'\n",
    "            ppr_pp_df.loc['cell_type',i] = 'broad'\n",
    "            #ppr_idv_df.loc['cell_type',i] = 'broad'\n",
    "        elif i in unit_narrow:\n",
    "            ppr_df.loc['cell_type',i] = 'narrow'\n",
    "            ppr_pp_df.loc['cell_type',i] = 'narrow'\n",
    "            #ppr_idv_df.loc['cell_type',i] = 'narrow'\n",
    "        else:\n",
    "            ppr_df.loc['cell_type',i] = 'none'\n",
    "            ppr_pp_df.loc['cell_type',i] = 'none'\n",
    "            #ppr_idv_df.loc['cell_type',i] = 'none'\n",
    "ppr_df.fillna(0,inplace=True)\n",
    "ppr_df.to_excel(os.path.join(PPR_path,'ppr.xlsx'))\n",
    "ppr_pp_df.to_excel(os.path.join(PPR_path,'ppr_p1_p2.xlsx'))\n",
    "#ppr_idv_df.to_excel(os.path.join(PPR_path,'ppr_10trial.xlsx'))"
   ]
  },
  {
   "cell_type": "code",
   "execution_count": null,
   "metadata": {},
   "outputs": [],
   "source": [
    "ppr_df = pd.DataFrame(columns=unit_ppr,index=['day1','day2','day3','cell_type'])\n",
    "gap = 1155/1000 \n",
    "cal_gap = 500/1000\n",
    "ppr_3day = []\n",
    "pre_3day = []\n",
    "post_3day = []\n",
    "for idx,file_name in enumerate(plx_p):\n",
    "    wave = pd.read_excel(os.path.join(PPR_path, file_name+'waveform.xlsx'),engine='openpyxl')\n",
    "    timestamp = h5py.File(os.path.join(PPR_path, file_name+'timestamp.mat'),'r')\n",
    "    kbd_p = timestamp['timestamp/kbd1'][:].flatten()\n",
    "    start1 = kbd_p + 5/1000\n",
    "    stop1 = start1 + cal_gap\n",
    "    start2 = start1 + gap\n",
    "    stop2 = start2 + cal_gap\n",
    "    print([start1,stop1,start2,stop2])\n",
    "    ppr_all = []\n",
    "    unit_list = list(wave.unit)\n",
    "    unit_name = []\n",
    "    pre_all = []\n",
    "    post_all = []\n",
    "    \n",
    "    for i in unit_list:\n",
    "        name = 'timestamp/'+i\n",
    "        unit_name.append(name)\n",
    "        spike_p = timestamp[name][:].flatten()\n",
    "        spk_array1 = spike_p[(spike_p>start1) & (spike_p<stop1)]\n",
    "        spk_array2 = spike_p[(spike_p>start2) & (spike_p<stop2)]\n",
    "        if len(spk_array1)/cal_gap != 0:\n",
    "            ppr = (len(spk_array2)/cal_gap)/(len(spk_array1)/cal_gap)\n",
    "        elif (len(spk_array1)==0) & (len(spk_array2)==0):\n",
    "            ppr = 1\n",
    "        else:\n",
    "            ppr = 0\n",
    "        ind = 'day%s'% (idx+1)\n",
    "        ppr_df.loc[ind, i] = ppr\n",
    "        if i in unit_broad:\n",
    "            ppr_df.loc['cell_type',i] = 'broad'\n",
    "        else:\n",
    "            ppr_df.loc['cell_type',i] = 'narrow'\n",
    "        ppr_all.append(ppr)\n",
    "        pre_all.append(len(spk_array1)/cal_gap)\n",
    "        post_all.append(len(spk_array2)/cal_gap)\n",
    "    ppr_3day.append(ppr_all)\n",
    "    post_3day.append(post_all)\n",
    "    pre_3day.append(pre_all)\n",
    "ppr_3day = np.array(ppr_3day)\n",
    "post_3day = np.array(post_3day)\n",
    "pre_3day = np.array(pre_3day)\n",
    "pre_n_post = np.hstack((pre_3day,post_3day))"
   ]
  },
  {
   "cell_type": "code",
   "execution_count": null,
   "metadata": {},
   "outputs": [],
   "source": [
    "ppr_df.fillna(0,inplace=True)\n",
    "ppr_df.to_excel(os.path.join(PPR_path,'ppr_1trial.xlsx'))"
   ]
  }
 ],
 "metadata": {
  "kernelspec": {
   "display_name": "Python 3.6.13 ('freeze')",
   "language": "python",
   "name": "python3"
  },
  "language_info": {
   "codemirror_mode": {
    "name": "ipython",
    "version": 3
   },
   "file_extension": ".py",
   "mimetype": "text/x-python",
   "name": "python",
   "nbconvert_exporter": "python",
   "pygments_lexer": "ipython3",
   "version": "3.6.13"
  },
  "orig_nbformat": 4,
  "vscode": {
   "interpreter": {
    "hash": "ceb62b99354f864679ffa73aa22e991645f0f3bfd638418712d4eea9a91e2ead"
   }
  }
 },
 "nbformat": 4,
 "nbformat_minor": 2
}
