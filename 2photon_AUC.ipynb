{
 "cells": [
  {
   "cell_type": "code",
   "execution_count": 1,
   "metadata": {},
   "outputs": [],
   "source": [
    "import numpy as np\n",
    "import pandas as pd\n",
    "import matplotlib.pyplot as plt\n",
    "import os\n",
    "from numpy import trapz"
   ]
  },
  {
   "cell_type": "code",
   "execution_count": 9,
   "metadata": {},
   "outputs": [],
   "source": [
    "total_path = r'C:\\Users\\Gulab_analyze_02\\Desktop\\nashat\\2photon'\n",
    "action_df = pd.read_excel(os.path.join(total_path, 'action.xlsx'),engine='openpyxl',header=None)\n",
    "no_action_df = pd.read_excel(os.path.join(total_path, 'no_action.xlsx'),engine='openpyxl',header=None)"
   ]
  },
  {
   "cell_type": "code",
   "execution_count": 10,
   "metadata": {},
   "outputs": [],
   "source": [
    "duo_action_df = pd.read_excel(os.path.join(total_path, 'action_duo.xlsx'),engine='openpyxl',header=None)\n",
    "duo_no_action_df = pd.read_excel(os.path.join(total_path, 'no_action_duo.xlsx'),engine='openpyxl',header=None)"
   ]
  },
  {
   "cell_type": "code",
   "execution_count": 11,
   "metadata": {},
   "outputs": [],
   "source": [
    "action_AUC = []\n",
    "action_length = []\n",
    "for trial in range(action_df.shape[1]):\n",
    "    curve = action_df[trial][~np.isnan(action_df[trial])]\n",
    "    x = np.arange(0, len(curve),1)\n",
    "    #AUC = trapz(curve, x, dx=0.001)/len(curve)\n",
    "    AUC = trapz(curve, x, dx=0.001)\n",
    "    action_length.append(len(curve)-1)\n",
    "    action_AUC.append(AUC)"
   ]
  },
  {
   "cell_type": "code",
   "execution_count": 12,
   "metadata": {},
   "outputs": [],
   "source": [
    "action_AUC_duo = []\n",
    "action_duo_length = []\n",
    "for trial in range(duo_action_df.shape[1]):\n",
    "    curve = duo_action_df[trial][~np.isnan(duo_action_df[trial])]\n",
    "    x = np.arange(0, len(curve),1)\n",
    "    #AUC = trapz(curve, x, dx=0.001)/len(curve)\n",
    "    AUC = trapz(curve, x, dx=0.001)\n",
    "    if curve[0] == 0:\n",
    "        action_duo_length.append(0)\n",
    "    else:\n",
    "        action_duo_length.append(len(curve)-1)\n",
    "    action_AUC_duo.append(AUC)"
   ]
  },
  {
   "cell_type": "code",
   "execution_count": 13,
   "metadata": {},
   "outputs": [],
   "source": [
    "noaction_AUC = []\n",
    "no_action_length = []\n",
    "for trial in range(no_action_df.shape[1]):\n",
    "    curve = no_action_df[trial][~np.isnan(no_action_df[trial])]\n",
    "    x = np.arange(0, len(curve),1)\n",
    "    #AUC = trapz(curve, x, dx=0.001)/len(curve)\n",
    "    AUC = trapz(curve, x, dx=0.001)\n",
    "    no_action_length.append(len(curve)-1)\n",
    "    noaction_AUC.append(AUC)"
   ]
  },
  {
   "cell_type": "code",
   "execution_count": 14,
   "metadata": {},
   "outputs": [],
   "source": [
    "noaction_AUC_duo = []\n",
    "noaction_duo_length = []\n",
    "for trial in range(duo_no_action_df.shape[1]):\n",
    "    curve = duo_no_action_df[trial][~np.isnan(duo_no_action_df[trial])]\n",
    "    x = np.arange(0, len(curve),1)\n",
    "    #AUC = trapz(curve, x, dx=0.001)/len(curve)\n",
    "    AUC = trapz(curve, x, dx=0.001)\n",
    "    if curve[0] == 0:\n",
    "        noaction_duo_length.append(0)\n",
    "    else:\n",
    "        noaction_duo_length.append(len(curve)-1)\n",
    "    noaction_AUC_duo.append(AUC)"
   ]
  },
  {
   "cell_type": "code",
   "execution_count": 15,
   "metadata": {},
   "outputs": [],
   "source": [
    "noaction_AUC = np.array(noaction_AUC) - np.array(noaction_AUC_duo)\n",
    "action_AUC = np.array(action_AUC) - np.array(action_AUC_duo)"
   ]
  },
  {
   "cell_type": "code",
   "execution_count": 16,
   "metadata": {},
   "outputs": [],
   "source": [
    "action_len = np.array(action_length) - np.array(action_duo_length)\n",
    "no_action_len = np.array(no_action_length) - np.array(noaction_duo_length)"
   ]
  },
  {
   "cell_type": "code",
   "execution_count": 17,
   "metadata": {},
   "outputs": [],
   "source": [
    "action_per_AUC = action_AUC/action_len\n",
    "noaction_per_AUC = noaction_AUC/no_action_length"
   ]
  },
  {
   "cell_type": "code",
   "execution_count": 18,
   "metadata": {},
   "outputs": [],
   "source": [
    "action = pd.DataFrame(action_per_AUC)\n",
    "noaction = pd.DataFrame(noaction_per_AUC)\n",
    "action.to_excel(os.path.join(total_path, 'new_action_AUC.xlsx'))\n",
    "noaction.to_excel(os.path.join(total_path, 'new_no_action_AUC.xlsx'))"
   ]
  }
 ],
 "metadata": {
  "kernelspec": {
   "display_name": "freeze",
   "language": "python",
   "name": "python3"
  },
  "language_info": {
   "codemirror_mode": {
    "name": "ipython",
    "version": 3
   },
   "file_extension": ".py",
   "mimetype": "text/x-python",
   "name": "python",
   "nbconvert_exporter": "python",
   "pygments_lexer": "ipython3",
   "version": "3.6.13"
  },
  "orig_nbformat": 4,
  "vscode": {
   "interpreter": {
    "hash": "ceb62b99354f864679ffa73aa22e991645f0f3bfd638418712d4eea9a91e2ead"
   }
  }
 },
 "nbformat": 4,
 "nbformat_minor": 2
}
