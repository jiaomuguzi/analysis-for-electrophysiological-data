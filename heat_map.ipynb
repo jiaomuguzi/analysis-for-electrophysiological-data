{
 "cells": [
  {
   "cell_type": "code",
   "execution_count": null,
   "metadata": {},
   "outputs": [],
   "source": [
    "import numpy as np\n",
    "import pandas as pd\n",
    "import matplotlib.pyplot as plt\n",
    "from scipy import interpolate\n",
    "import seaborn as sns\n",
    "from scipy import stats\n",
    "np.set_printoptions(suppress=True)"
   ]
  },
  {
   "cell_type": "code",
   "execution_count": null,
   "metadata": {},
   "outputs": [],
   "source": [
    "data_inc = pd.read_excel(r'Z:\\zym\\IS\\activate_same_neuron\\after_broad\\broad_inc_all.xlsx',engine='openpyxl')\n",
    "data_dec = pd.read_excel(r'Z:\\zym\\IS\\activate_same_neuron\\after_broad\\broad_dec_all.xlsx',engine='openpyxl')\n",
    "data_noch = pd.read_excel(r'Z:\\zym\\IS\\activate_same_neuron\\after_broad\\broad_noch_all.xlsx',engine='openpyxl')\n",
    "data1 = data_inc.iloc[:,2:].values\n",
    "data2 = data_dec.iloc[:,2:].values\n",
    "data3 = data_noch.iloc[:,2:].values"
   ]
  },
  {
   "cell_type": "code",
   "execution_count": null,
   "metadata": {},
   "outputs": [],
   "source": [
    "data_all = np.concatenate((data1,data2,data3),axis=0)\n",
    "fig = sns.set_context({\"figure.figsize\":(6,4)})\n",
    "fig = sns.heatmap(data_all,cmap='jet',vmax=4, vmin=-4)\n",
    "scatter_fig = fig.get_figure()\n",
    "scatter_fig.savefig(r'Z:\\zym\\IS\\activate_same_neuron\\after_broad\\after_broad.eps',dpi=500)\n",
    "#scatter_fig.savefig(r'Z:\\zym\\IS\\test\\broad_fig.eps',dpi=500)"
   ]
  },
  {
   "cell_type": "code",
   "execution_count": null,
   "metadata": {},
   "outputs": [],
   "source": [
    "data_inc = pd.read_excel(r'Z:\\zym\\IS\\activate_same_neuron\\after_narrow\\narrow_inc_all.xlsx',engine='openpyxl')\n",
    "data_dec = pd.read_excel(r'Z:\\zym\\IS\\activate_same_neuron\\after_narrow\\narrow_dec_all.xlsx',engine='openpyxl')\n",
    "data_noch = pd.read_excel(r'Z:\\zym\\IS\\activate_same_neuron\\after_narrow\\narrow_noch_all.xlsx',engine='openpyxl')\n",
    "data1 = data_inc.iloc[:,2:].values\n",
    "data2 = data_dec.iloc[:,2:].values\n",
    "data3 = data_noch.iloc[:,2:].values"
   ]
  },
  {
   "cell_type": "code",
   "execution_count": null,
   "metadata": {},
   "outputs": [],
   "source": [
    "data_all = np.concatenate((data1,data2,data3),axis=0)\n",
    "fig = sns.set_context({\"figure.figsize\":(5,2)})\n",
    "fig = sns.heatmap(data_all,cmap='jet',vmax=4, vmin=-4)\n",
    "scatter_fig = fig.get_figure()\n",
    "scatter_fig.savefig(r'Z:\\zym\\IS\\activate_same_neuron\\after_narrow\\after_narrow.eps',dpi=500)"
   ]
  },
  {
   "cell_type": "code",
   "execution_count": null,
   "metadata": {},
   "outputs": [],
   "source": [
    "data = pd.read_excel(r'Z:\\zym\\IS\\test\\broad_dec_zscore.xlsx',engine='openpyxl')\n",
    "data1 = data.iloc[:,1:].values\n",
    "fig = sns.set_context({\"figure.figsize\":(5,3)})\n",
    "fig = sns.heatmap(data1,cmap='jet')\n",
    "scatter_fig = fig.get_figure()\n",
    "#scatter_fig.savefig(r'Z:\\zym\\IS\\test\\narrow_fig.eps',dpi=500)"
   ]
  }
 ],
 "metadata": {
  "kernelspec": {
   "display_name": "freeze",
   "language": "python",
   "name": "python3"
  },
  "language_info": {
   "codemirror_mode": {
    "name": "ipython",
    "version": 3
   },
   "file_extension": ".py",
   "mimetype": "text/x-python",
   "name": "python",
   "nbconvert_exporter": "python",
   "pygments_lexer": "ipython3",
   "version": "3.6.13"
  },
  "orig_nbformat": 4,
  "vscode": {
   "interpreter": {
    "hash": "ceb62b99354f864679ffa73aa22e991645f0f3bfd638418712d4eea9a91e2ead"
   }
  }
 },
 "nbformat": 4,
 "nbformat_minor": 2
}
