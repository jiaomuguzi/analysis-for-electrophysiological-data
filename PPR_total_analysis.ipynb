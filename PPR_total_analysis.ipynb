{
 "cells": [
  {
   "cell_type": "code",
   "execution_count": null,
   "metadata": {},
   "outputs": [],
   "source": [
    "import numpy as np\n",
    "import pandas as pd\n",
    "import matplotlib.pyplot as plt\n",
    "import os\n",
    "import h5py\n",
    "np.set_printoptions(suppress=True)"
   ]
  },
  {
   "cell_type": "code",
   "execution_count": null,
   "metadata": {},
   "outputs": [],
   "source": [
    "narrow_all = []\n",
    "broad_all = []\n",
    "folder_path = r'Z:\\zym\\IS\\ppr_total'\n",
    "file_list = os.listdir(folder_path)\n",
    "for f in file_list:\n",
    "    ppr_data = pd.read_excel(os.path.join(folder_path,f),engine='openpyxl')\n",
    "    ppr_data.index = ppr_data.loc[:,'Unnamed: 0'].values\n",
    "    ppr_data = ppr_data.drop(['Unnamed: 0'],axis=1)\n",
    "    narrow_ppr = []\n",
    "    broad_ppr = []\n",
    "    for idx, unit in enumerate(ppr_data):\n",
    "        if ppr_data.loc['cell_type',unit] == 'broad':\n",
    "            broad_ppr.append(ppr_data.iloc[0:3,idx].values)\n",
    "        elif ppr_data.loc['cell_type',unit] == 'narrow':\n",
    "            narrow_ppr.append(ppr_data.iloc[0:3,idx].values)\n",
    "        #broad_ppr = np.array(broad_ppr)\n",
    "        #narrow_ppr = np.array(narrow_ppr)\n",
    "        broad_ppr_mean = (np.array(broad_ppr).mean(axis=0)).tolist()\n",
    "        narrow_ppr_mean = (np.array(narrow_ppr).mean(axis=0)).tolist()\n",
    "    broad_all.append(broad_ppr_mean)\n",
    "    narrow_all.append(narrow_ppr_mean)\n",
    "broad_all_array = np.array(broad_all)\n",
    "narrow_all_array = np.array(narrow_all)"
   ]
  },
  {
   "cell_type": "code",
   "execution_count": null,
   "metadata": {},
   "outputs": [],
   "source": [
    "broad_all_mean = np.mean(broad_all_array, 0)\n",
    "broad_all_std = np.std(broad_all_array, 0)/(np.sqrt(len(broad_all_array)))\n",
    "narrow_all_mean = np.mean(narrow_all_array, 0)\n",
    "narrow_all_std = np.std(narrow_all_array, 0)/(np.sqrt(len(narrow_all_array)))"
   ]
  },
  {
   "cell_type": "code",
   "execution_count": null,
   "metadata": {},
   "outputs": [],
   "source": [
    "fig, ax = plt.subplots(figsize=(3,5))\n",
    "ax.spines['top'].set_visible(False)\n",
    "ax.spines['right'].set_visible(False)\n",
    "ax.spines['bottom'].set_linewidth('1.2')\n",
    "ax.spines['left'].set_linewidth('1.2')\n",
    "\n",
    "x = np.arange(0,3,1)\n",
    "plt.plot(x, narrow_all_mean, c='slategray')\n",
    "plt.scatter(x, narrow_all_mean, c='slategray', edgecolors='k')\n",
    "plt.fill_between(x, narrow_all_mean-narrow_all_std, narrow_all_mean+narrow_all_std,color='slategray',alpha=0.1)\n",
    "plt.plot(x, broad_all_mean, c='steelblue')\n",
    "plt.scatter(x, broad_all_mean, c='steelblue', edgecolors='k')\n",
    "plt.fill_between(x, broad_all_mean-broad_all_std, broad_all_mean+broad_all_std,color='lightblue',alpha=0.1)\n",
    "plt.ylabel('PPR',fontsize=14)\n",
    "plt.xticks(np.arange(0,3,1),['day1','day2','day3'],fontsize=12)         \n",
    "plt.savefig(os.path.join(folder_path,'PPR_total.jpg'),dpi=300,bbox_inches = 'tight')\n",
    "plt.close()"
   ]
  },
  {
   "cell_type": "code",
   "execution_count": null,
   "metadata": {},
   "outputs": [],
   "source": []
  }
 ],
 "metadata": {
  "kernelspec": {
   "display_name": "Python 3.6.13 ('freeze')",
   "language": "python",
   "name": "python3"
  },
  "language_info": {
   "codemirror_mode": {
    "name": "ipython",
    "version": 3
   },
   "file_extension": ".py",
   "mimetype": "text/x-python",
   "name": "python",
   "nbconvert_exporter": "python",
   "pygments_lexer": "ipython3",
   "version": "3.6.13 |Anaconda, Inc.| (default, Mar 16 2021, 11:37:27) [MSC v.1916 64 bit (AMD64)]"
  },
  "orig_nbformat": 4,
  "vscode": {
   "interpreter": {
    "hash": "ceb62b99354f864679ffa73aa22e991645f0f3bfd638418712d4eea9a91e2ead"
   }
  }
 },
 "nbformat": 4,
 "nbformat_minor": 2
}
