{
 "cells": [
  {
   "cell_type": "code",
   "execution_count": null,
   "metadata": {},
   "outputs": [],
   "source": [
    "import numpy as np\n",
    "import pandas as pd\n",
    "import matplotlib.pyplot as plt\n",
    "import os\n",
    "import h5py\n",
    "np.set_printoptions(suppress=True)"
   ]
  },
  {
   "cell_type": "code",
   "execution_count": null,
   "metadata": {},
   "outputs": [],
   "source": [
    "data_path = r'Z:\\zym\\IS\\control_6\\plx'\n",
    "filelist = os.listdir(data_path)\n",
    "plxlist=[]\n",
    "for f in filelist:\n",
    "    if f.endswith('.plx'):\n",
    "        plxlist.append(f[:-4])"
   ]
  },
  {
   "cell_type": "code",
   "execution_count": null,
   "metadata": {},
   "outputs": [],
   "source": [
    "ptd_all = []\n",
    "wave_data = []\n",
    "unit_name = []\n",
    "for idx,file_name in enumerate(plxlist):\n",
    "    wave = pd.read_excel(os.path.join(data_path, file_name+'waveform.xlsx'),engine='openpyxl')\n",
    "    wave = wave[wave.peak_trough_distance != 0]\n",
    "    wave_data.extend(wave.values[:,0:3].tolist())\n",
    "    unit_name.extend((wave.values[:,0]).tolist())\n",
    "unit_name = list(dict.fromkeys(unit_name))\n",
    "unit_name.sort()\n",
    "for u in unit_name:\n",
    "    ptd = []\n",
    "    for w in wave_data:\n",
    "        if w[0] == u:\n",
    "            ptd.append(w[2])\n",
    "    ptd_all.append(np.mean(ptd))\n",
    "ptd_avg = np.array(ptd_all)\n",
    "narrow_idx = np.argwhere((ptd_avg<0.4)|(ptd_avg==0.4)).flatten()\n",
    "narrow_idx = narrow_idx.tolist()\n",
    "broad_idx = np.argwhere(ptd_avg>0.4).flatten()\n",
    "broad_idx = broad_idx.tolist()\n",
    "cell_type = np.zeros_like(ptd_avg).tolist()\n",
    "for i in narrow_idx:\n",
    "    cell_type[i] = 'narrow'\n",
    "for i in broad_idx:\n",
    "    cell_type[i] = 'broad'"
   ]
  },
  {
   "cell_type": "code",
   "execution_count": null,
   "metadata": {},
   "outputs": [],
   "source": [
    "unit_narrow = []\n",
    "for i in narrow_idx:\n",
    "    unit_narrow.append(unit_name[i])\n",
    "unit_broad = []\n",
    "for i in broad_idx:\n",
    "    unit_broad.append(unit_name[i])"
   ]
  },
  {
   "cell_type": "code",
   "execution_count": null,
   "metadata": {},
   "outputs": [],
   "source": [
    "data = pd.DataFrame(index=unit_name,columns=['trough to peak','type'])\n",
    "data['trough to peak'] = ptd_avg\n",
    "data['type'] = cell_type"
   ]
  },
  {
   "cell_type": "code",
   "execution_count": null,
   "metadata": {},
   "outputs": [],
   "source": [
    "data.to_excel(os.path.join(data_path,'info.xlsx'))"
   ]
  },
  {
   "cell_type": "code",
   "execution_count": null,
   "metadata": {},
   "outputs": [],
   "source": [
    "gap = 5 #min\n",
    "narrow_fr = []\n",
    "broad_fr = []\n",
    "narrow_unit = []\n",
    "broad_unit = []\n",
    "fr = []\n",
    "unit_all = []\n",
    "for file_name in plxlist:\n",
    "    wave = pd.read_excel(os.path.join(data_path, file_name+'waveform.xlsx'),engine='openpyxl')\n",
    "    timestamp=h5py.File(os.path.join(data_path, file_name+'timestamp.mat'),'r')\n",
    "    start = timestamp['timestamp/start'][:].flatten()\n",
    "    #stop = timestamp['timestamp/stop'][:].flatten()\n",
    "    ts_all = []\n",
    "    ts_fr_all = []\n",
    "    unit_list = list(wave.unit)\n",
    "    unit_ = []\n",
    "    unit_n = []\n",
    "    unit_b = []\n",
    "    for idx, i in enumerate(unit_list):\n",
    "        ts_list = []\n",
    "        ts_fr_list = []\n",
    "        name = 'timestamp/'+i\n",
    "        unit_.append(i)\n",
    "        if i in unit_narrow:\n",
    "            unit_n.append(idx)\n",
    "        if i in unit_broad:\n",
    "            unit_b.append(idx)\n",
    "        ts_total = timestamp[name][:].flatten()\n",
    "        for j in range(len(start)):\n",
    "            ts = ts_total[(ts_total>start[j]) & (ts_total<(start[j]+gap*60))]\n",
    "            ts_num = len(ts)\n",
    "            ts_list.append(ts)\n",
    "            ts_fr_list.append(ts_num/((start[j]+gap*60)-start[j]))\n",
    "        ts_all.append(ts_list)\n",
    "        ts_fr_all.append(ts_fr_list)\n",
    "    ts_fr_all = np.array(ts_fr_all)\n",
    "    fr_l = []\n",
    "    for idx in range(len(unit_list)):\n",
    "        fr_l.append(ts_fr_all[idx,:])\n",
    "    fr.append(fr_l)\n",
    "    unit_all.append(unit_)\n",
    "    if len(unit_n) != 0:\n",
    "        narrow_fr_l = []\n",
    "        for idx in unit_n:\n",
    "            narrow_fr_l.append(ts_fr_all[idx,:])\n",
    "        narrow_fr.append(narrow_fr_l)\n",
    "        narrow_u = [unit_list[unit_n[i]] for i in range(len(unit_n))]\n",
    "        narrow_unit.append(narrow_u)\n",
    "    if len(unit_b) != 0:\n",
    "        broad_fr_l = []\n",
    "        for idx in unit_b:\n",
    "            broad_fr_l.append(ts_fr_all[idx,:])\n",
    "        broad_fr.append(broad_fr_l)\n",
    "        broad_u = [unit_list[unit_b[i]] for i in range(len(unit_b))]\n",
    "        broad_unit.append(broad_u)\n",
    "if len(unit_b) != 0:\n",
    "    broad_fr_list = []\n",
    "    for f in range(len(broad_fr)):\n",
    "        broad_fr_list.append(np.array(broad_fr[f]).flatten())\n",
    "    broad_fr = np.array(broad_fr_list)\n",
    "if len(unit_n) != 0:\n",
    "    narrow_fr_list = []\n",
    "    for f in range(len(narrow_fr)):\n",
    "        narrow_fr_list.append(np.array(narrow_fr[f]).flatten())\n",
    "    narrow_fr = np.array(narrow_fr_list)"
   ]
  },
  {
   "cell_type": "code",
   "execution_count": null,
   "metadata": {},
   "outputs": [],
   "source": [
    "narrow_df = pd.DataFrame(columns=unit_narrow,index=np.arange(0,18,1))\n",
    "for n in range(len(narrow_unit)):\n",
    "    narrow_df.loc[n,narrow_unit[n]] = narrow_fr[n]\n",
    "narrow_df.fillna(0,inplace=True)\n",
    "broad_df = pd.DataFrame(columns=unit_broad,index=np.arange(0,18,1))\n",
    "for n in range(len(broad_unit)):\n",
    "    broad_df.loc[n,broad_unit[n]] = broad_fr[n]\n",
    "broad_df.fillna(0,inplace=True)\n",
    "all_fr = pd.concat([broad_df,narrow_df],axis=1)"
   ]
  },
  {
   "cell_type": "code",
   "execution_count": null,
   "metadata": {},
   "outputs": [],
   "source": [
    "mean_broad = broad_df.mean(axis=1).values\n",
    "std_broad = (broad_df.values.std(axis=1))/(np.sqrt(len(unit_broad)))\n",
    "mean_narrow = narrow_df.mean(axis=1).values\n",
    "std_narrow= (narrow_df.values.std(axis=1))/(np.sqrt(len(unit_narrow)))"
   ]
  },
  {
   "cell_type": "code",
   "execution_count": null,
   "metadata": {},
   "outputs": [],
   "source": [
    "data = pd.DataFrame(columns=all_fr.columns,index = ['0','5','15','30','45','60']*3)\n",
    "for i in range(len(all_fr.columns)):\n",
    "    data[all_fr.columns[i]] = all_fr.values[:,i]\n",
    "    fig, ax = plt.subplots(figsize=(10,5))\n",
    "    ax.spines['top'].set_visible(False)\n",
    "    ax.spines['right'].set_visible(False)\n",
    "    ax.spines['bottom'].set_linewidth('1.2')\n",
    "    ax.spines['left'].set_linewidth('1.2')\n",
    "    x = np.arange(0,18,1)\n",
    "    plt.plot(x,all_fr.values[:,i],alpha=0.8,c='steelblue')\n",
    "    plt.scatter(x, all_fr.values[:,i],c='darkgray',edgecolors='k')\n",
    "    plt.ylabel('Firing Rate(Hz)',fontsize=14)\n",
    "    plt.xticks(np.arange(0,18,1),['0','5','15','30','45','60']*3)\n",
    "    plt.xlabel('Trial(D1-D3)',fontsize=14)\n",
    "    plt.title(all_fr.columns[i])\n",
    "    plt.savefig(os.path.join(data_path, '%d_'%gap+'%s_IS.jpg'%all_fr.columns[i]),dpi=300,bbox_inches = 'tight')\n",
    "    plt.close()\n",
    "data.to_excel(os.path.join(data_path, '%dmin_data.xlsx'%gap))"
   ]
  },
  {
   "cell_type": "code",
   "execution_count": null,
   "metadata": {},
   "outputs": [],
   "source": [
    "fig, ax = plt.subplots(figsize=(10,5))\n",
    "ax.spines['top'].set_visible(False)\n",
    "ax.spines['right'].set_visible(False)\n",
    "ax.spines['bottom'].set_linewidth('1.2')\n",
    "ax.spines['left'].set_linewidth('1.2')\n",
    "x = np.arange(0,18,1)\n",
    "\n",
    "if len(narrow_idx) != 0:\n",
    "    plt.plot(x,mean_narrow,alpha=0.8,c='slategray')\n",
    "    #for i in range(len(narrow_idx)):\n",
    "        #plt.plot(narrow_fr_all[i],c='slategray',alpha=0.3)\n",
    "    plt.scatter(x, mean_narrow,c='slategray',edgecolors='k')\n",
    "    plt.fill_between(x,mean_narrow-std_narrow,mean_narrow+std_narrow,color='darkgray',alpha=0.1)\n",
    "\n",
    "if len(broad_idx) != 0:\n",
    "    plt.plot(x,mean_broad,alpha=0.8,c='steelblue')\n",
    "    #for i in range(len(broad_idx)):\n",
    "        #plt.plot(broad_fr_all[i],c='steelblue',alpha=0.3)\n",
    "    plt.scatter(x, mean_broad,c='steelblue',edgecolors='k')\n",
    "    plt.fill_between(x,mean_broad-std_broad,mean_broad+std_broad,color='lightblue',alpha=0.1)\n",
    "plt.ylabel('Firing Rate(Hz)',fontsize=14)\n",
    "plt.xticks(np.arange(0,18,1),['0','5','15','30','45','60']*3)\n",
    "plt.xlabel('Trial(D1-D3)',fontsize=14)\n",
    "if (len(narrow_idx) != 0) and (len(broad_idx) != 0):\n",
    "    plt.legend(['narrow','broad'])\n",
    "elif (len(narrow_idx) != 0) and (len(broad_idx) == 0):\n",
    "    plt.legend(['narrow'])\n",
    "elif (len(narrow_idx) == 0) and (len(broad_idx) != 0):\n",
    "    plt.legend(['broad'])\n",
    "plt.tight_layout()\n",
    "plt.savefig(os.path.join(data_path,'%d_'%gap + 'cell'+'.jpg'),dpi=400)\n",
    "plt.show()"
   ]
  }
 ],
 "metadata": {
  "kernelspec": {
   "display_name": "Python 3.6.4 ('freeze')",
   "language": "python",
   "name": "python3"
  },
  "language_info": {
   "codemirror_mode": {
    "name": "ipython",
    "version": 3
   },
   "file_extension": ".py",
   "mimetype": "text/x-python",
   "name": "python",
   "nbconvert_exporter": "python",
   "pygments_lexer": "ipython3",
   "version": "3.6.13 |Anaconda, Inc.| (default, Mar 16 2021, 11:37:27) [MSC v.1916 64 bit (AMD64)]"
  },
  "orig_nbformat": 4,
  "vscode": {
   "interpreter": {
    "hash": "ceb62b99354f864679ffa73aa22e991645f0f3bfd638418712d4eea9a91e2ead"
   }
  }
 },
 "nbformat": 4,
 "nbformat_minor": 2
}
